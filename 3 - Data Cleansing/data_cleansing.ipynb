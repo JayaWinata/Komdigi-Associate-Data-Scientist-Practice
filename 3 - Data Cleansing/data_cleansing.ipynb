{
 "cells": [
  {
   "cell_type": "code",
   "execution_count": 60,
   "id": "662312e6",
   "metadata": {},
   "outputs": [],
   "source": [
    "import kaggle\n",
    "import os\n",
    "import pandas as pd\n",
    "import zipfile\n",
    "from sklearn.preprocessing import LabelEncoder\n",
    "import matplotlib.pyplot as plt\n",
    "import seaborn as sns"
   ]
  },
  {
   "cell_type": "markdown",
   "id": "37927447",
   "metadata": {},
   "source": [
    "## Download Data"
   ]
  },
  {
   "cell_type": "code",
   "execution_count": 61,
   "id": "8239da2e",
   "metadata": {},
   "outputs": [],
   "source": [
    "os.makedirs(\"datasets\", exist_ok=True)"
   ]
  },
  {
   "cell_type": "code",
   "execution_count": 62,
   "id": "e705598f",
   "metadata": {},
   "outputs": [
    {
     "name": "stdout",
     "output_type": "stream",
     "text": [
      "Dataset URL: https://www.kaggle.com/datasets/urvishahir/global-freelancers-raw-dataset\n",
      "License(s): CC0-1.0\n",
      "global-freelancers-raw-dataset.zip: Skipping, found more recently modified local copy (use --force to force download)\n"
     ]
    }
   ],
   "source": [
    "#!/bin/bash\n",
    "!kaggle datasets download -d urvishahir/global-freelancers-raw-dataset -p datasets/"
   ]
  },
  {
   "cell_type": "code",
   "execution_count": 63,
   "id": "a7cc38e8",
   "metadata": {},
   "outputs": [],
   "source": [
    "# Ekstrak file zip\n",
    "with zipfile.ZipFile(\"datasets/global-freelancers-raw-dataset.zip\", 'r') as zip_ref:\n",
    "    zip_ref.extractall(\"datasets/global-freelance\")"
   ]
  },
  {
   "cell_type": "markdown",
   "id": "60078196",
   "metadata": {},
   "source": [
    "## 1. Data Understanding"
   ]
  },
  {
   "cell_type": "code",
   "execution_count": 64,
   "id": "730fc131",
   "metadata": {},
   "outputs": [],
   "source": [
    "df = pd.read_csv('datasets/global-freelance/global_freelancers_raw.csv')"
   ]
  },
  {
   "cell_type": "code",
   "execution_count": 65,
   "id": "eb3396b6",
   "metadata": {},
   "outputs": [
    {
     "name": "stdout",
     "output_type": "stream",
     "text": [
      "Jumlah data: 1000\n"
     ]
    }
   ],
   "source": [
    "print(\"Jumlah data:\", df.shape[0])"
   ]
  },
  {
   "cell_type": "code",
   "execution_count": 66,
   "id": "266e58ff",
   "metadata": {},
   "outputs": [
    {
     "name": "stdout",
     "output_type": "stream",
     "text": [
      "Tipe data:\n",
      "freelancer_ID           object\n",
      "name                    object\n",
      "gender                  object\n",
      "age                    float64\n",
      "country                 object\n",
      "language                object\n",
      "primary_skill           object\n",
      "years_of_experience    float64\n",
      "hourly_rate (USD)       object\n",
      "rating                 float64\n",
      "is_active               object\n",
      "client_satisfaction     object\n",
      "dtype: object\n"
     ]
    }
   ],
   "source": [
    "print(\"Tipe data:\")\n",
    "print(df.dtypes)"
   ]
  },
  {
   "cell_type": "code",
   "execution_count": 67,
   "id": "6bc05291",
   "metadata": {},
   "outputs": [
    {
     "name": "stdout",
     "output_type": "stream",
     "text": [
      "Jumlah nilai yang hilang:\n",
      "freelancer_ID            0\n",
      "name                     0\n",
      "gender                   0\n",
      "age                     30\n",
      "country                  0\n",
      "language                 0\n",
      "primary_skill            0\n",
      "years_of_experience     51\n",
      "hourly_rate (USD)       94\n",
      "rating                 101\n",
      "is_active               89\n",
      "client_satisfaction    176\n",
      "dtype: int64\n"
     ]
    }
   ],
   "source": [
    "print(\"Jumlah nilai yang hilang:\")\n",
    "print(df.isnull().sum())"
   ]
  },
  {
   "cell_type": "code",
   "execution_count": 68,
   "id": "bece482d",
   "metadata": {},
   "outputs": [
    {
     "data": {
      "text/plain": [
       "Index(['age', 'years_of_experience', 'rating'], dtype='object')"
      ]
     },
     "execution_count": 68,
     "metadata": {},
     "output_type": "execute_result"
    }
   ],
   "source": [
    "df.select_dtypes('number').columns"
   ]
  },
  {
   "cell_type": "code",
   "execution_count": 69,
   "id": "0faf2d65",
   "metadata": {},
   "outputs": [
    {
     "name": "stdout",
     "output_type": "stream",
     "text": [
      "\n",
      "Outlier pada kolom age:\n",
      "Empty DataFrame\n",
      "Columns: [freelancer_ID, name, gender, age, country, language, primary_skill, years_of_experience, hourly_rate (USD), rating, is_active, client_satisfaction]\n",
      "Index: []\n",
      "\n",
      "Outlier pada kolom years_of_experience:\n",
      "    freelancer_ID                    name  gender   age         country  \\\n",
      "135      FL250136           Thomas Ingram    MALE  60.0    South Africa   \n",
      "325      FL250326          Jennifer Allen  FEMALE  58.0           Spain   \n",
      "559      FL250560           Rodney Wilson    male  60.0       Argentina   \n",
      "601      FL250602              Ryan Ewing    male  60.0   United States   \n",
      "629      FL250630        Angela Blackwell       F  60.0          Turkey   \n",
      "760      FL250761              John White       m  60.0           China   \n",
      "953      FL250954  Miss Kimberly Marshall       F  59.0  United Kingdom   \n",
      "964      FL250965            Latoya Brown  Female  59.0  United Kingdom   \n",
      "985      FL250986              Bradley Wu       m  60.0           Spain   \n",
      "\n",
      "      language           primary_skill  years_of_experience hourly_rate (USD)  \\\n",
      "135  Afrikaans           Cybersecurity                 39.0                75   \n",
      "325    Spanish           Data Analysis                 40.0                75   \n",
      "559    Spanish          Graphic Design                 39.0            USD 75   \n",
      "601    English                      AI                 39.0           USD 100   \n",
      "629    Turkish         Web Development                 41.0               $40   \n",
      "760   Mandarin                  DevOps                 40.0                50   \n",
      "953    English           Data Analysis                 40.0                40   \n",
      "964    English            UI/UX Design                 40.0               100   \n",
      "985    Spanish  Blockchain Development                 39.0                20   \n",
      "\n",
      "     rating is_active client_satisfaction  \n",
      "135     1.4        no                 70%  \n",
      "325     3.4         1                100%  \n",
      "559     4.0       NaN                 70%  \n",
      "601     1.5       NaN                  88  \n",
      "629     4.9         1                  66  \n",
      "760     4.6      True                100%  \n",
      "953     2.5      True                  70  \n",
      "964     2.6       NaN                 NaN  \n",
      "985     1.4      True                 86%  \n",
      "\n",
      "Outlier pada kolom rating:\n",
      "Empty DataFrame\n",
      "Columns: [freelancer_ID, name, gender, age, country, language, primary_skill, years_of_experience, hourly_rate (USD), rating, is_active, client_satisfaction]\n",
      "Index: []\n"
     ]
    }
   ],
   "source": [
    "for column in df.select_dtypes('number').columns:  # Loop melalui fitur numerik\n",
    "    Q1 = df[column].quantile(0.25)\n",
    "    Q3 = df[column].quantile(0.75)\n",
    "    IQR = Q3 - Q1\n",
    "    lower_bound = Q1 - 1.5 * IQR\n",
    "    upper_bound = Q3 + 1.5 * IQR\n",
    "    outliers = df[(df[column] < lower_bound) | (df[column] > upper_bound)]\n",
    "    print(f\"\\nOutlier pada kolom {column}:\")\n",
    "    print(outliers)"
   ]
  },
  {
   "cell_type": "code",
   "execution_count": 70,
   "id": "d46ceeed",
   "metadata": {},
   "outputs": [
    {
     "name": "stdout",
     "output_type": "stream",
     "text": [
      "Deskripsi statistik:\n"
     ]
    },
    {
     "data": {
      "application/vnd.microsoft.datawrangler.viewer.v0+json": {
       "columns": [
        {
         "name": "index",
         "rawType": "object",
         "type": "string"
        },
        {
         "name": "age",
         "rawType": "float64",
         "type": "float"
        },
        {
         "name": "years_of_experience",
         "rawType": "float64",
         "type": "float"
        },
        {
         "name": "rating",
         "rawType": "float64",
         "type": "float"
        }
       ],
       "ref": "bb101101-726e-4032-83dd-370c7ad33539",
       "rows": [
        [
         "count",
         "970.0",
         "949.0",
         "899.0"
        ],
        [
         "mean",
         "40.509278350515466",
         "11.34035827186512",
         "2.5125695216907675"
        ],
        [
         "std",
         "11.942605110115041",
         "9.680609630859637",
         "1.5465991012414648"
        ],
        [
         "min",
         "20.0",
         "0.0",
         "0.0"
        ],
        [
         "25%",
         "31.0",
         "3.0",
         "1.4"
        ],
        [
         "50%",
         "41.0",
         "9.0",
         "2.6"
        ],
        [
         "75%",
         "51.0",
         "17.0",
         "3.8"
        ],
        [
         "max",
         "60.0",
         "41.0",
         "5.0"
        ]
       ],
       "shape": {
        "columns": 3,
        "rows": 8
       }
      },
      "text/html": [
       "<div>\n",
       "<style scoped>\n",
       "    .dataframe tbody tr th:only-of-type {\n",
       "        vertical-align: middle;\n",
       "    }\n",
       "\n",
       "    .dataframe tbody tr th {\n",
       "        vertical-align: top;\n",
       "    }\n",
       "\n",
       "    .dataframe thead th {\n",
       "        text-align: right;\n",
       "    }\n",
       "</style>\n",
       "<table border=\"1\" class=\"dataframe\">\n",
       "  <thead>\n",
       "    <tr style=\"text-align: right;\">\n",
       "      <th></th>\n",
       "      <th>age</th>\n",
       "      <th>years_of_experience</th>\n",
       "      <th>rating</th>\n",
       "    </tr>\n",
       "  </thead>\n",
       "  <tbody>\n",
       "    <tr>\n",
       "      <th>count</th>\n",
       "      <td>970.000000</td>\n",
       "      <td>949.000000</td>\n",
       "      <td>899.000000</td>\n",
       "    </tr>\n",
       "    <tr>\n",
       "      <th>mean</th>\n",
       "      <td>40.509278</td>\n",
       "      <td>11.340358</td>\n",
       "      <td>2.512570</td>\n",
       "    </tr>\n",
       "    <tr>\n",
       "      <th>std</th>\n",
       "      <td>11.942605</td>\n",
       "      <td>9.680610</td>\n",
       "      <td>1.546599</td>\n",
       "    </tr>\n",
       "    <tr>\n",
       "      <th>min</th>\n",
       "      <td>20.000000</td>\n",
       "      <td>0.000000</td>\n",
       "      <td>0.000000</td>\n",
       "    </tr>\n",
       "    <tr>\n",
       "      <th>25%</th>\n",
       "      <td>31.000000</td>\n",
       "      <td>3.000000</td>\n",
       "      <td>1.400000</td>\n",
       "    </tr>\n",
       "    <tr>\n",
       "      <th>50%</th>\n",
       "      <td>41.000000</td>\n",
       "      <td>9.000000</td>\n",
       "      <td>2.600000</td>\n",
       "    </tr>\n",
       "    <tr>\n",
       "      <th>75%</th>\n",
       "      <td>51.000000</td>\n",
       "      <td>17.000000</td>\n",
       "      <td>3.800000</td>\n",
       "    </tr>\n",
       "    <tr>\n",
       "      <th>max</th>\n",
       "      <td>60.000000</td>\n",
       "      <td>41.000000</td>\n",
       "      <td>5.000000</td>\n",
       "    </tr>\n",
       "  </tbody>\n",
       "</table>\n",
       "</div>"
      ],
      "text/plain": [
       "              age  years_of_experience      rating\n",
       "count  970.000000           949.000000  899.000000\n",
       "mean    40.509278            11.340358    2.512570\n",
       "std     11.942605             9.680610    1.546599\n",
       "min     20.000000             0.000000    0.000000\n",
       "25%     31.000000             3.000000    1.400000\n",
       "50%     41.000000             9.000000    2.600000\n",
       "75%     51.000000            17.000000    3.800000\n",
       "max     60.000000            41.000000    5.000000"
      ]
     },
     "execution_count": 70,
     "metadata": {},
     "output_type": "execute_result"
    }
   ],
   "source": [
    "print(\"Deskripsi statistik:\")\n",
    "df.describe()"
   ]
  },
  {
   "cell_type": "markdown",
   "id": "11b7525b",
   "metadata": {},
   "source": [
    "## 2. Membersihkan Data"
   ]
  },
  {
   "cell_type": "markdown",
   "id": "49759033",
   "metadata": {},
   "source": [
    "### Memperbaiki kesalahan pada data"
   ]
  },
  {
   "cell_type": "code",
   "execution_count": 71,
   "id": "0eb690f4",
   "metadata": {},
   "outputs": [],
   "source": [
    "# Kolom \"gender\"\n",
    "df['gender'] = df['gender'].apply(lambda x: x.lower())\n",
    "mapper = {\n",
    "    'f': 'female',\n",
    "    'm': 'male',\n",
    "    'male': 'male',\n",
    "    'female': 'female'\n",
    "}\n",
    "df['gender'] = df['gender'].map(mapper, na_action='ignore')"
   ]
  },
  {
   "cell_type": "code",
   "execution_count": 72,
   "id": "bb4d2fbe",
   "metadata": {},
   "outputs": [],
   "source": [
    "# hourly_rate\n",
    "df['hourly_rate (USD)'] = df['hourly_rate (USD)'].str.replace(r\"\\$|USD\", \"\", regex=True).str.strip()\n",
    "df['hourly_rate (USD)'] = pd.to_numeric(df['hourly_rate (USD)'])"
   ]
  },
  {
   "cell_type": "code",
   "execution_count": 73,
   "id": "7c03f1e2",
   "metadata": {},
   "outputs": [],
   "source": [
    "# is_active\n",
    "mapper = {\n",
    "    '0': 'no',\n",
    "    '1': 'yes',\n",
    "    'N': 'no',\n",
    "    'Y': 'yes',\n",
    "    'False': 'no',\n",
    "    'True': 'yes'\n",
    "}\n",
    "df['is_active'] = df['is_active'].map(mapper)"
   ]
  },
  {
   "cell_type": "code",
   "execution_count": 74,
   "id": "38e11ba2",
   "metadata": {},
   "outputs": [],
   "source": [
    "# client_satisfaction\n",
    "df['client_satisfaction'] = df['client_satisfaction'].str.replace(r\"\\%\", \"\", regex=True).str.strip()\n",
    "df['client_satisfaction'] = pd.to_numeric(df['client_satisfaction'])"
   ]
  },
  {
   "cell_type": "markdown",
   "id": "cd974270",
   "metadata": {},
   "source": [
    "### Mengisi nilai hilang"
   ]
  },
  {
   "cell_type": "code",
   "execution_count": 75,
   "id": "1c2e9eab",
   "metadata": {},
   "outputs": [
    {
     "data": {
      "application/vnd.microsoft.datawrangler.viewer.v0+json": {
       "columns": [
        {
         "name": "index",
         "rawType": "int64",
         "type": "integer"
        },
        {
         "name": "freelancer_ID",
         "rawType": "object",
         "type": "string"
        },
        {
         "name": "name",
         "rawType": "object",
         "type": "string"
        },
        {
         "name": "gender",
         "rawType": "object",
         "type": "string"
        },
        {
         "name": "age",
         "rawType": "float64",
         "type": "float"
        },
        {
         "name": "country",
         "rawType": "object",
         "type": "string"
        },
        {
         "name": "language",
         "rawType": "object",
         "type": "string"
        },
        {
         "name": "primary_skill",
         "rawType": "object",
         "type": "string"
        },
        {
         "name": "years_of_experience",
         "rawType": "float64",
         "type": "float"
        },
        {
         "name": "hourly_rate (USD)",
         "rawType": "float64",
         "type": "float"
        },
        {
         "name": "rating",
         "rawType": "float64",
         "type": "float"
        },
        {
         "name": "is_active",
         "rawType": "object",
         "type": "string"
        },
        {
         "name": "client_satisfaction",
         "rawType": "float64",
         "type": "float"
        }
       ],
       "ref": "93d74e5f-33da-4b62-a372-50df824765cc",
       "rows": [
        [
         "0",
         "FL250001",
         "Ms. Nicole Kidd",
         "female",
         "52.0",
         "Italy",
         "Italian",
         "Blockchain Development",
         "11.0",
         "100.0",
         null,
         "no",
         null
        ],
        [
         "1",
         "FL250002",
         "Vanessa Garcia",
         "female",
         "52.0",
         "Australia",
         "English",
         "Mobile Apps",
         "34.0",
         "100.0",
         "3.3",
         "yes",
         "84.0"
        ],
        [
         "2",
         "FL250003",
         "Juan Nelson",
         "male",
         "53.0",
         "Germany",
         "German",
         "Graphic Design",
         "31.0",
         "50.0",
         "0.0",
         "no",
         "71.0"
        ],
        [
         "3",
         "FL250004",
         "Amanda Spencer",
         "female",
         "38.0",
         "Australia",
         "English",
         "Web Development",
         "4.0",
         "40.0",
         "1.5",
         "no",
         "90.0"
        ],
        [
         "4",
         "FL250005",
         "Lynn Curtis DDS",
         "female",
         "53.0",
         "Germany",
         "German",
         "Web Development",
         "27.0",
         "30.0",
         "4.8",
         "no",
         "83.0"
        ]
       ],
       "shape": {
        "columns": 12,
        "rows": 5
       }
      },
      "text/html": [
       "<div>\n",
       "<style scoped>\n",
       "    .dataframe tbody tr th:only-of-type {\n",
       "        vertical-align: middle;\n",
       "    }\n",
       "\n",
       "    .dataframe tbody tr th {\n",
       "        vertical-align: top;\n",
       "    }\n",
       "\n",
       "    .dataframe thead th {\n",
       "        text-align: right;\n",
       "    }\n",
       "</style>\n",
       "<table border=\"1\" class=\"dataframe\">\n",
       "  <thead>\n",
       "    <tr style=\"text-align: right;\">\n",
       "      <th></th>\n",
       "      <th>freelancer_ID</th>\n",
       "      <th>name</th>\n",
       "      <th>gender</th>\n",
       "      <th>age</th>\n",
       "      <th>country</th>\n",
       "      <th>language</th>\n",
       "      <th>primary_skill</th>\n",
       "      <th>years_of_experience</th>\n",
       "      <th>hourly_rate (USD)</th>\n",
       "      <th>rating</th>\n",
       "      <th>is_active</th>\n",
       "      <th>client_satisfaction</th>\n",
       "    </tr>\n",
       "  </thead>\n",
       "  <tbody>\n",
       "    <tr>\n",
       "      <th>0</th>\n",
       "      <td>FL250001</td>\n",
       "      <td>Ms. Nicole Kidd</td>\n",
       "      <td>female</td>\n",
       "      <td>52.0</td>\n",
       "      <td>Italy</td>\n",
       "      <td>Italian</td>\n",
       "      <td>Blockchain Development</td>\n",
       "      <td>11.0</td>\n",
       "      <td>100.0</td>\n",
       "      <td>NaN</td>\n",
       "      <td>no</td>\n",
       "      <td>NaN</td>\n",
       "    </tr>\n",
       "    <tr>\n",
       "      <th>1</th>\n",
       "      <td>FL250002</td>\n",
       "      <td>Vanessa Garcia</td>\n",
       "      <td>female</td>\n",
       "      <td>52.0</td>\n",
       "      <td>Australia</td>\n",
       "      <td>English</td>\n",
       "      <td>Mobile Apps</td>\n",
       "      <td>34.0</td>\n",
       "      <td>100.0</td>\n",
       "      <td>3.3</td>\n",
       "      <td>yes</td>\n",
       "      <td>84.0</td>\n",
       "    </tr>\n",
       "    <tr>\n",
       "      <th>2</th>\n",
       "      <td>FL250003</td>\n",
       "      <td>Juan Nelson</td>\n",
       "      <td>male</td>\n",
       "      <td>53.0</td>\n",
       "      <td>Germany</td>\n",
       "      <td>German</td>\n",
       "      <td>Graphic Design</td>\n",
       "      <td>31.0</td>\n",
       "      <td>50.0</td>\n",
       "      <td>0.0</td>\n",
       "      <td>no</td>\n",
       "      <td>71.0</td>\n",
       "    </tr>\n",
       "    <tr>\n",
       "      <th>3</th>\n",
       "      <td>FL250004</td>\n",
       "      <td>Amanda Spencer</td>\n",
       "      <td>female</td>\n",
       "      <td>38.0</td>\n",
       "      <td>Australia</td>\n",
       "      <td>English</td>\n",
       "      <td>Web Development</td>\n",
       "      <td>4.0</td>\n",
       "      <td>40.0</td>\n",
       "      <td>1.5</td>\n",
       "      <td>no</td>\n",
       "      <td>90.0</td>\n",
       "    </tr>\n",
       "    <tr>\n",
       "      <th>4</th>\n",
       "      <td>FL250005</td>\n",
       "      <td>Lynn Curtis DDS</td>\n",
       "      <td>female</td>\n",
       "      <td>53.0</td>\n",
       "      <td>Germany</td>\n",
       "      <td>German</td>\n",
       "      <td>Web Development</td>\n",
       "      <td>27.0</td>\n",
       "      <td>30.0</td>\n",
       "      <td>4.8</td>\n",
       "      <td>no</td>\n",
       "      <td>83.0</td>\n",
       "    </tr>\n",
       "  </tbody>\n",
       "</table>\n",
       "</div>"
      ],
      "text/plain": [
       "  freelancer_ID             name  gender   age    country language  \\\n",
       "0      FL250001  Ms. Nicole Kidd  female  52.0      Italy  Italian   \n",
       "1      FL250002   Vanessa Garcia  female  52.0  Australia  English   \n",
       "2      FL250003      Juan Nelson    male  53.0    Germany   German   \n",
       "3      FL250004   Amanda Spencer  female  38.0  Australia  English   \n",
       "4      FL250005  Lynn Curtis DDS  female  53.0    Germany   German   \n",
       "\n",
       "            primary_skill  years_of_experience  hourly_rate (USD)  rating  \\\n",
       "0  Blockchain Development                 11.0              100.0     NaN   \n",
       "1             Mobile Apps                 34.0              100.0     3.3   \n",
       "2          Graphic Design                 31.0               50.0     0.0   \n",
       "3         Web Development                  4.0               40.0     1.5   \n",
       "4         Web Development                 27.0               30.0     4.8   \n",
       "\n",
       "  is_active  client_satisfaction  \n",
       "0        no                  NaN  \n",
       "1       yes                 84.0  \n",
       "2        no                 71.0  \n",
       "3        no                 90.0  \n",
       "4        no                 83.0  "
      ]
     },
     "execution_count": 75,
     "metadata": {},
     "output_type": "execute_result"
    }
   ],
   "source": [
    "df.head()"
   ]
  },
  {
   "cell_type": "code",
   "execution_count": 76,
   "id": "998d04da",
   "metadata": {},
   "outputs": [
    {
     "data": {
      "application/vnd.microsoft.datawrangler.viewer.v0+json": {
       "columns": [
        {
         "name": "index",
         "rawType": "object",
         "type": "string"
        },
        {
         "name": "0",
         "rawType": "int64",
         "type": "integer"
        }
       ],
       "ref": "9ab5ec86-2e95-4e30-badf-e2d60b448f17",
       "rows": [
        [
         "freelancer_ID",
         "0"
        ],
        [
         "name",
         "0"
        ],
        [
         "gender",
         "0"
        ],
        [
         "age",
         "30"
        ],
        [
         "country",
         "0"
        ],
        [
         "language",
         "0"
        ],
        [
         "primary_skill",
         "0"
        ],
        [
         "years_of_experience",
         "51"
        ],
        [
         "hourly_rate (USD)",
         "94"
        ],
        [
         "rating",
         "101"
        ],
        [
         "is_active",
         "262"
        ],
        [
         "client_satisfaction",
         "176"
        ]
       ],
       "shape": {
        "columns": 1,
        "rows": 12
       }
      },
      "text/plain": [
       "freelancer_ID            0\n",
       "name                     0\n",
       "gender                   0\n",
       "age                     30\n",
       "country                  0\n",
       "language                 0\n",
       "primary_skill            0\n",
       "years_of_experience     51\n",
       "hourly_rate (USD)       94\n",
       "rating                 101\n",
       "is_active              262\n",
       "client_satisfaction    176\n",
       "dtype: int64"
      ]
     },
     "execution_count": 76,
     "metadata": {},
     "output_type": "execute_result"
    }
   ],
   "source": [
    "df.isna().sum()"
   ]
  },
  {
   "cell_type": "code",
   "execution_count": 77,
   "id": "3f43bccd",
   "metadata": {},
   "outputs": [
    {
     "name": "stderr",
     "output_type": "stream",
     "text": [
      "C:\\Users\\jayaw\\AppData\\Local\\Temp\\ipykernel_5884\\385676968.py:2: FutureWarning: A value is trying to be set on a copy of a DataFrame or Series through chained assignment using an inplace method.\n",
      "The behavior will change in pandas 3.0. This inplace method will never work because the intermediate object on which we are setting values always behaves as a copy.\n",
      "\n",
      "For example, when doing 'df[col].method(value, inplace=True)', try using 'df.method({col: value}, inplace=True)' or df[col] = df[col].method(value) instead, to perform the operation inplace on the original object.\n",
      "\n",
      "\n",
      "  df['age'].fillna(df['age'].mean(), inplace=True)\n",
      "C:\\Users\\jayaw\\AppData\\Local\\Temp\\ipykernel_5884\\385676968.py:5: FutureWarning: A value is trying to be set on a copy of a DataFrame or Series through chained assignment using an inplace method.\n",
      "The behavior will change in pandas 3.0. This inplace method will never work because the intermediate object on which we are setting values always behaves as a copy.\n",
      "\n",
      "For example, when doing 'df[col].method(value, inplace=True)', try using 'df.method({col: value}, inplace=True)' or df[col] = df[col].method(value) instead, to perform the operation inplace on the original object.\n",
      "\n",
      "\n",
      "  df['years_of_experience'].fillna(df['years_of_experience'].mean(), inplace=True)\n",
      "C:\\Users\\jayaw\\AppData\\Local\\Temp\\ipykernel_5884\\385676968.py:11: FutureWarning: A value is trying to be set on a copy of a DataFrame or Series through chained assignment using an inplace method.\n",
      "The behavior will change in pandas 3.0. This inplace method will never work because the intermediate object on which we are setting values always behaves as a copy.\n",
      "\n",
      "For example, when doing 'df[col].method(value, inplace=True)', try using 'df.method({col: value}, inplace=True)' or df[col] = df[col].method(value) instead, to perform the operation inplace on the original object.\n",
      "\n",
      "\n",
      "  df['rating'].fillna(df['rating'].mean(), inplace=True)\n",
      "C:\\Users\\jayaw\\AppData\\Local\\Temp\\ipykernel_5884\\385676968.py:14: FutureWarning: A value is trying to be set on a copy of a DataFrame or Series through chained assignment using an inplace method.\n",
      "The behavior will change in pandas 3.0. This inplace method will never work because the intermediate object on which we are setting values always behaves as a copy.\n",
      "\n",
      "For example, when doing 'df[col].method(value, inplace=True)', try using 'df.method({col: value}, inplace=True)' or df[col] = df[col].method(value) instead, to perform the operation inplace on the original object.\n",
      "\n",
      "\n",
      "  df['is_active'].fillna(df['is_active'].mode(), inplace=True)\n",
      "C:\\Users\\jayaw\\AppData\\Local\\Temp\\ipykernel_5884\\385676968.py:17: FutureWarning: A value is trying to be set on a copy of a DataFrame or Series through chained assignment using an inplace method.\n",
      "The behavior will change in pandas 3.0. This inplace method will never work because the intermediate object on which we are setting values always behaves as a copy.\n",
      "\n",
      "For example, when doing 'df[col].method(value, inplace=True)', try using 'df.method({col: value}, inplace=True)' or df[col] = df[col].method(value) instead, to perform the operation inplace on the original object.\n",
      "\n",
      "\n",
      "  df['client_satisfaction'].fillna(df['client_satisfaction'].mean(), inplace=True)\n"
     ]
    }
   ],
   "source": [
    "# age\n",
    "df['age'].fillna(df['age'].mean(), inplace=True)\n",
    "\n",
    "# years_of_experience\n",
    "df['years_of_experience'].fillna(df['years_of_experience'].mean(), inplace=True)\n",
    "\n",
    "# hourly_rate\n",
    "df['hourly_rate (USD)'].fillna(df['hourly_rate (USD)'], inplace=True)\n",
    "\n",
    "# rating\n",
    "df['rating'].fillna(df['rating'].mean(), inplace=True)\n",
    "\n",
    "# is_active\n",
    "df['is_active'].fillna(df['is_active'].mode(), inplace=True)\n",
    "\n",
    "# client_satistaction\n",
    "df['client_satisfaction'].fillna(df['client_satisfaction'].mean(), inplace=True)"
   ]
  },
  {
   "cell_type": "markdown",
   "id": "a4a1a40a",
   "metadata": {},
   "source": [
    "### Memperbaiki outlier"
   ]
  },
  {
   "cell_type": "code",
   "execution_count": 78,
   "id": "e351638a",
   "metadata": {},
   "outputs": [],
   "source": [
    "for column in df.select_dtypes('number').columns:\n",
    "    Q1 = df[column].quantile(0.25)\n",
    "    Q3 = df[column].quantile(0.75)\n",
    "    IQR = Q3 - Q1\n",
    "    lower_bound = Q1 - 1.5 * IQR\n",
    "    upper_bound = Q3 + 1.5 * IQR\n",
    "    df[column] = df[column].clip(lower_bound, upper_bound)"
   ]
  },
  {
   "cell_type": "code",
   "execution_count": 79,
   "id": "0429dd82",
   "metadata": {},
   "outputs": [
    {
     "name": "stdout",
     "output_type": "stream",
     "text": [
      "Deskripsi statistik setelah pembersihan:\n",
      "               age  years_of_experience  hourly_rate (USD)       rating  \\\n",
      "count  1000.000000          1000.000000         906.000000  1000.000000   \n",
      "mean     40.509278            11.325358          52.461369     2.512570   \n",
      "std      11.761920             9.386168          27.323742     1.466335   \n",
      "min      20.000000             0.000000          20.000000     0.000000   \n",
      "25%      31.000000             3.000000          30.000000     1.500000   \n",
      "50%      40.509278            10.000000          40.000000     2.512570   \n",
      "75%      51.000000            17.000000          75.000000     3.700000   \n",
      "max      60.000000            38.000000         100.000000     5.000000   \n",
      "\n",
      "       client_satisfaction  \n",
      "count          1000.000000  \n",
      "mean             79.269417  \n",
      "std              10.433554  \n",
      "min              60.000000  \n",
      "25%              71.000000  \n",
      "50%              79.269417  \n",
      "75%              87.000000  \n",
      "max             100.000000  \n"
     ]
    }
   ],
   "source": [
    "print(\"Deskripsi statistik setelah pembersihan:\")\n",
    "print(df.describe())"
   ]
  }
 ],
 "metadata": {
  "kernelspec": {
   "display_name": "Python 3",
   "language": "python",
   "name": "python3"
  },
  "language_info": {
   "codemirror_mode": {
    "name": "ipython",
    "version": 3
   },
   "file_extension": ".py",
   "mimetype": "text/x-python",
   "name": "python",
   "nbconvert_exporter": "python",
   "pygments_lexer": "ipython3",
   "version": "3.10.11"
  }
 },
 "nbformat": 4,
 "nbformat_minor": 5
}
